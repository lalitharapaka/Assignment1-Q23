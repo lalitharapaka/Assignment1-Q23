{
 "cells": [
  {
   "cell_type": "code",
   "execution_count": 1,
   "id": "970c096f",
   "metadata": {},
   "outputs": [],
   "source": [
    "  ### Calculate the t scores of 95% confidence interval, 96% confidence interval, 99% confidence interval for sample size of 25\n",
    "    "
   ]
  },
  {
   "cell_type": "code",
   "execution_count": 2,
   "id": "8b0ade15",
   "metadata": {},
   "outputs": [],
   "source": [
    "### importing required libraries\n",
    "\n",
    "from scipy import stats\n",
    "from scipy.stats import norm"
   ]
  },
  {
   "cell_type": "code",
   "execution_count": 4,
   "id": "ecb1d667",
   "metadata": {},
   "outputs": [
    {
     "data": {
      "text/plain": [
       "2.0638985616280205"
      ]
     },
     "execution_count": 4,
     "metadata": {},
     "output_type": "execute_result"
    }
   ],
   "source": [
    "#  formula A = (1 + CL)/2 where A= area under the normal distribution curve, CL = confidence level\n",
    "\n",
    "### t score of 95% confidence interval\n",
    "## for 95%  A = (1+0.95)/2 = 0.975. df = n-1 = 25-1=24\n",
    "\n",
    "stats.t.ppf(0.975,24)"
   ]
  },
  {
   "cell_type": "code",
   "execution_count": 6,
   "id": "e4c2c6c9",
   "metadata": {},
   "outputs": [
    {
     "data": {
      "text/plain": [
       "2.1715446760080677"
      ]
     },
     "execution_count": 6,
     "metadata": {},
     "output_type": "execute_result"
    }
   ],
   "source": [
    "\n",
    "### t score of 96% confidence interval\n",
    "## for 96%  A = (1+0.96)/2 = 0.98. df = n-1 = 25-1=24\n",
    "\n",
    "stats.t.ppf(0.98,24)"
   ]
  },
  {
   "cell_type": "code",
   "execution_count": 7,
   "id": "23de6f9c",
   "metadata": {},
   "outputs": [
    {
     "data": {
      "text/plain": [
       "2.796939504772804"
      ]
     },
     "execution_count": 7,
     "metadata": {},
     "output_type": "execute_result"
    }
   ],
   "source": [
    "### t score of 99% confidence interval\n",
    "## for 99%  A = (1+0.99)/2 = 0.995. df = n-1 = 25-1=24\n",
    "\n",
    "stats.t.ppf(0.995,24)"
   ]
  }
 ],
 "metadata": {
  "kernelspec": {
   "display_name": "Python 3",
   "language": "python",
   "name": "python3"
  },
  "language_info": {
   "codemirror_mode": {
    "name": "ipython",
    "version": 3
   },
   "file_extension": ".py",
   "mimetype": "text/x-python",
   "name": "python",
   "nbconvert_exporter": "python",
   "pygments_lexer": "ipython3",
   "version": "3.8.8"
  }
 },
 "nbformat": 4,
 "nbformat_minor": 5
}
